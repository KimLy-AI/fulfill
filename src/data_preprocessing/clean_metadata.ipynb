{
 "cells": [
  {
   "cell_type": "code",
   "execution_count": 15,
   "id": "c75a5751c5e77cb1",
   "metadata": {
    "jupyter": {
     "is_executing": true
    }
   },
   "outputs": [],
   "source": [
    "import pandas as pd\n",
    "import os"
   ]
  },
  {
   "cell_type": "markdown",
   "id": "fe0f5d48",
   "metadata": {},
   "source": [
    "## Load meatadata file"
   ]
  },
  {
   "cell_type": "code",
   "execution_count": 16,
   "id": "86cdc98af2897a98",
   "metadata": {},
   "outputs": [
    {
     "data": {
      "text/html": [
       "<div>\n",
       "<style scoped>\n",
       "    .dataframe tbody tr th:only-of-type {\n",
       "        vertical-align: middle;\n",
       "    }\n",
       "\n",
       "    .dataframe tbody tr th {\n",
       "        vertical-align: top;\n",
       "    }\n",
       "\n",
       "    .dataframe thead th {\n",
       "        text-align: right;\n",
       "    }\n",
       "</style>\n",
       "<table border=\"1\" class=\"dataframe\">\n",
       "  <thead>\n",
       "    <tr style=\"text-align: right;\">\n",
       "      <th></th>\n",
       "      <th>filename</th>\n",
       "      <th>file_extension</th>\n",
       "      <th>folder_name</th>\n",
       "      <th>folder_url</th>\n",
       "      <th>direct_url</th>\n",
       "      <th>preview_url</th>\n",
       "      <th>download_url</th>\n",
       "      <th>file_id</th>\n",
       "      <th>file_size</th>\n",
       "      <th>modified_date</th>\n",
       "      <th>collection_timestamp</th>\n",
       "    </tr>\n",
       "  </thead>\n",
       "  <tbody>\n",
       "    <tr>\n",
       "      <th>0</th>\n",
       "      <td>homebody đen.png</td>\n",
       "      <td>.png</td>\n",
       "      <td>root</td>\n",
       "      <td>https://drive.google.com/drive/folders/1_NJA2-...</td>\n",
       "      <td>https://drive.google.com/file/d/1vMDM1CSCXek0n...</td>\n",
       "      <td>NaN</td>\n",
       "      <td>https://drive.google.com/uc?export=download&amp;id...</td>\n",
       "      <td>1vMDM1CSCXek0ntYzzx9pZyb541Vkvlxh</td>\n",
       "      <td>293990.0</td>\n",
       "      <td>2025-06-04T06:48:55.258Z</td>\n",
       "      <td>2025-06-04T08:21:17.222572Z</td>\n",
       "    </tr>\n",
       "    <tr>\n",
       "      <th>1</th>\n",
       "      <td>daddy homes 4551.png</td>\n",
       "      <td>.png</td>\n",
       "      <td>root</td>\n",
       "      <td>https://drive.google.com/drive/folders/1_NJA2-...</td>\n",
       "      <td>https://drive.google.com/file/d/1aTojDAuWOGqrt...</td>\n",
       "      <td>NaN</td>\n",
       "      <td>https://drive.google.com/uc?export=download&amp;id...</td>\n",
       "      <td>1aTojDAuWOGqrth9hLUoLM55N8kyAqQfe</td>\n",
       "      <td>12960826.0</td>\n",
       "      <td>2025-06-04T02:22:51.591Z</td>\n",
       "      <td>2025-06-04T08:21:17.222572Z</td>\n",
       "    </tr>\n",
       "    <tr>\n",
       "      <th>2</th>\n",
       "      <td>Troll_Co_Clothing_Working_Harder_Than_An_T-Shi...</td>\n",
       "      <td>.png</td>\n",
       "      <td>root</td>\n",
       "      <td>https://drive.google.com/drive/folders/1_NJA2-...</td>\n",
       "      <td>https://drive.google.com/file/d/1UGB1pIrypzZpa...</td>\n",
       "      <td>NaN</td>\n",
       "      <td>https://drive.google.com/uc?export=download&amp;id...</td>\n",
       "      <td>1UGB1pIrypzZpaCmUv9UF3nsKQhhTP89S</td>\n",
       "      <td>3676136.0</td>\n",
       "      <td>2025-06-04T02:13:07.125Z</td>\n",
       "      <td>2025-06-04T08:21:17.222572Z</td>\n",
       "    </tr>\n",
       "    <tr>\n",
       "      <th>3</th>\n",
       "      <td>Limited Rod Wave Nostalgia Tour Sb Dunk Low Bl...</td>\n",
       "      <td>.png</td>\n",
       "      <td>root</td>\n",
       "      <td>https://drive.google.com/drive/folders/1_NJA2-...</td>\n",
       "      <td>https://drive.google.com/file/d/1qFPVdZ4d3NWDj...</td>\n",
       "      <td>NaN</td>\n",
       "      <td>https://drive.google.com/uc?export=download&amp;id...</td>\n",
       "      <td>1qFPVdZ4d3NWDj5E0SUkeFF3vXq2Ee7ot</td>\n",
       "      <td>16172569.0</td>\n",
       "      <td>2025-06-04T02:10:58.812Z</td>\n",
       "      <td>2025-06-04T08:21:17.222572Z</td>\n",
       "    </tr>\n",
       "    <tr>\n",
       "      <th>4</th>\n",
       "      <td>LIV MORGAN TEE Wrestling Graphic Tee WWE Tee S...</td>\n",
       "      <td>.png</td>\n",
       "      <td>root</td>\n",
       "      <td>https://drive.google.com/drive/folders/1_NJA2-...</td>\n",
       "      <td>https://drive.google.com/file/d/1k4WKnAqj_5MYe...</td>\n",
       "      <td>NaN</td>\n",
       "      <td>https://drive.google.com/uc?export=download&amp;id...</td>\n",
       "      <td>1k4WKnAqj_5MYeSbydbayDKC4R5p5qSUL</td>\n",
       "      <td>7261260.0</td>\n",
       "      <td>2025-06-04T02:10:39.556Z</td>\n",
       "      <td>2025-06-04T08:21:17.222572Z</td>\n",
       "    </tr>\n",
       "  </tbody>\n",
       "</table>\n",
       "</div>"
      ],
      "text/plain": [
       "                                            filename file_extension  \\\n",
       "0                                   homebody đen.png           .png   \n",
       "1                               daddy homes 4551.png           .png   \n",
       "2  Troll_Co_Clothing_Working_Harder_Than_An_T-Shi...           .png   \n",
       "3  Limited Rod Wave Nostalgia Tour Sb Dunk Low Bl...           .png   \n",
       "4  LIV MORGAN TEE Wrestling Graphic Tee WWE Tee S...           .png   \n",
       "\n",
       "  folder_name                                         folder_url  \\\n",
       "0        root  https://drive.google.com/drive/folders/1_NJA2-...   \n",
       "1        root  https://drive.google.com/drive/folders/1_NJA2-...   \n",
       "2        root  https://drive.google.com/drive/folders/1_NJA2-...   \n",
       "3        root  https://drive.google.com/drive/folders/1_NJA2-...   \n",
       "4        root  https://drive.google.com/drive/folders/1_NJA2-...   \n",
       "\n",
       "                                          direct_url  preview_url  \\\n",
       "0  https://drive.google.com/file/d/1vMDM1CSCXek0n...          NaN   \n",
       "1  https://drive.google.com/file/d/1aTojDAuWOGqrt...          NaN   \n",
       "2  https://drive.google.com/file/d/1UGB1pIrypzZpa...          NaN   \n",
       "3  https://drive.google.com/file/d/1qFPVdZ4d3NWDj...          NaN   \n",
       "4  https://drive.google.com/file/d/1k4WKnAqj_5MYe...          NaN   \n",
       "\n",
       "                                        download_url  \\\n",
       "0  https://drive.google.com/uc?export=download&id...   \n",
       "1  https://drive.google.com/uc?export=download&id...   \n",
       "2  https://drive.google.com/uc?export=download&id...   \n",
       "3  https://drive.google.com/uc?export=download&id...   \n",
       "4  https://drive.google.com/uc?export=download&id...   \n",
       "\n",
       "                             file_id   file_size             modified_date  \\\n",
       "0  1vMDM1CSCXek0ntYzzx9pZyb541Vkvlxh    293990.0  2025-06-04T06:48:55.258Z   \n",
       "1  1aTojDAuWOGqrth9hLUoLM55N8kyAqQfe  12960826.0  2025-06-04T02:22:51.591Z   \n",
       "2  1UGB1pIrypzZpaCmUv9UF3nsKQhhTP89S   3676136.0  2025-06-04T02:13:07.125Z   \n",
       "3  1qFPVdZ4d3NWDj5E0SUkeFF3vXq2Ee7ot  16172569.0  2025-06-04T02:10:58.812Z   \n",
       "4  1k4WKnAqj_5MYeSbydbayDKC4R5p5qSUL   7261260.0  2025-06-04T02:10:39.556Z   \n",
       "\n",
       "          collection_timestamp  \n",
       "0  2025-06-04T08:21:17.222572Z  \n",
       "1  2025-06-04T08:21:17.222572Z  \n",
       "2  2025-06-04T08:21:17.222572Z  \n",
       "3  2025-06-04T08:21:17.222572Z  \n",
       "4  2025-06-04T08:21:17.222572Z  "
      ]
     },
     "execution_count": 16,
     "metadata": {},
     "output_type": "execute_result"
    }
   ],
   "source": [
    "data_des = pd.read_csv('../data/metadata/drive_des.csv')\n",
    "data_des.head(5)"
   ]
  },
  {
   "cell_type": "markdown",
   "id": "5c3e373a",
   "metadata": {},
   "source": [
    "## Replace root name"
   ]
  },
  {
   "cell_type": "code",
   "execution_count": 17,
   "id": "cdbf8fbd",
   "metadata": {},
   "outputs": [
    {
     "data": {
      "text/plain": [
       "0                      Design\n",
       "1                      Design\n",
       "2                      Design\n",
       "3                      Design\n",
       "4                      Design\n",
       "                ...          \n",
       "1127         Design/Rod Wave \n",
       "1128         Design/Rod Wave \n",
       "1129         Design/Rod Wave \n",
       "1130    Design/ARIAT NÂU NHẠT\n",
       "1131    Design/ARIAT NÂU NHẠT\n",
       "Name: folder_name, Length: 1132, dtype: object"
      ]
     },
     "execution_count": 17,
     "metadata": {},
     "output_type": "execute_result"
    }
   ],
   "source": [
    "data_des['folder_name'] = data_des['folder_name'].str.replace('root', 'Design', regex=False)\n",
    "data_des['folder_name'] "
   ]
  },
  {
   "cell_type": "code",
   "execution_count": 18,
   "id": "92699572",
   "metadata": {},
   "outputs": [
    {
     "data": {
      "text/html": [
       "<div>\n",
       "<style scoped>\n",
       "    .dataframe tbody tr th:only-of-type {\n",
       "        vertical-align: middle;\n",
       "    }\n",
       "\n",
       "    .dataframe tbody tr th {\n",
       "        vertical-align: top;\n",
       "    }\n",
       "\n",
       "    .dataframe thead th {\n",
       "        text-align: right;\n",
       "    }\n",
       "</style>\n",
       "<table border=\"1\" class=\"dataframe\">\n",
       "  <thead>\n",
       "    <tr style=\"text-align: right;\">\n",
       "      <th></th>\n",
       "      <th>filename</th>\n",
       "      <th>file_extension</th>\n",
       "      <th>folder_name</th>\n",
       "      <th>folder_url</th>\n",
       "      <th>direct_url</th>\n",
       "      <th>preview_url</th>\n",
       "      <th>download_url</th>\n",
       "      <th>file_id</th>\n",
       "      <th>file_size</th>\n",
       "      <th>modified_date</th>\n",
       "      <th>collection_timestamp</th>\n",
       "    </tr>\n",
       "  </thead>\n",
       "  <tbody>\n",
       "    <tr>\n",
       "      <th>0</th>\n",
       "      <td>White And Beige Minimalistic Photo Collage Bir...</td>\n",
       "      <td>.png</td>\n",
       "      <td>root</td>\n",
       "      <td>https://drive.google.com/drive/folders/1_UeVZ_...</td>\n",
       "      <td>https://drive.google.com/file/d/17kiNJBasVa7wC...</td>\n",
       "      <td>NaN</td>\n",
       "      <td>https://drive.google.com/uc?export=download&amp;id...</td>\n",
       "      <td>17kiNJBasVa7wCyMktyjLxy-toEI05KJB</td>\n",
       "      <td>2741732.0</td>\n",
       "      <td>2025-05-26T10:46:16.000Z</td>\n",
       "      <td>2025-06-04T05:33:30.571554Z</td>\n",
       "    </tr>\n",
       "    <tr>\n",
       "      <th>1</th>\n",
       "      <td>Kobe Bryant.png</td>\n",
       "      <td>.png</td>\n",
       "      <td>root/Áo/2025</td>\n",
       "      <td>https://drive.google.com/drive/folders/1RinxNY...</td>\n",
       "      <td>https://drive.google.com/file/d/1CJS-rYB9Z7YGF...</td>\n",
       "      <td>NaN</td>\n",
       "      <td>https://drive.google.com/uc?export=download&amp;id...</td>\n",
       "      <td>1CJS-rYB9Z7YGF0tP_MNJeGIWSSLqvvbH</td>\n",
       "      <td>12857644.0</td>\n",
       "      <td>2025-04-18T03:46:22.000Z</td>\n",
       "      <td>2025-06-04T05:33:40.719788Z</td>\n",
       "    </tr>\n",
       "    <tr>\n",
       "      <th>2</th>\n",
       "      <td>Trigger Warning Reading den.png</td>\n",
       "      <td>.png</td>\n",
       "      <td>root/Áo/2025</td>\n",
       "      <td>https://drive.google.com/drive/folders/1RinxNY...</td>\n",
       "      <td>https://drive.google.com/file/d/1fgmcQo6iOTpn6...</td>\n",
       "      <td>NaN</td>\n",
       "      <td>https://drive.google.com/uc?export=download&amp;id...</td>\n",
       "      <td>1fgmcQo6iOTpn6Hk6HuWCfMaA_5Yvkbfo</td>\n",
       "      <td>6466206.0</td>\n",
       "      <td>2025-04-11T04:16:03.000Z</td>\n",
       "      <td>2025-06-04T05:33:40.719788Z</td>\n",
       "    </tr>\n",
       "    <tr>\n",
       "      <th>3</th>\n",
       "      <td>Sunset Beachy Coconut Girl fix mau.png</td>\n",
       "      <td>.png</td>\n",
       "      <td>root/Áo/2025</td>\n",
       "      <td>https://drive.google.com/drive/folders/1RinxNY...</td>\n",
       "      <td>https://drive.google.com/file/d/1sqIgceUTlX5f8...</td>\n",
       "      <td>NaN</td>\n",
       "      <td>https://drive.google.com/uc?export=download&amp;id...</td>\n",
       "      <td>1sqIgceUTlX5f8bmRymsCAFYBWc0bYA1C</td>\n",
       "      <td>605823.0</td>\n",
       "      <td>2025-04-11T03:42:29.000Z</td>\n",
       "      <td>2025-06-04T05:33:40.719788Z</td>\n",
       "    </tr>\n",
       "    <tr>\n",
       "      <th>4</th>\n",
       "      <td>Trokiando.png</td>\n",
       "      <td>.png</td>\n",
       "      <td>root/Áo/2025</td>\n",
       "      <td>https://drive.google.com/drive/folders/1RinxNY...</td>\n",
       "      <td>https://drive.google.com/file/d/1zyd_Vyw0Xr8b8...</td>\n",
       "      <td>NaN</td>\n",
       "      <td>https://drive.google.com/uc?export=download&amp;id...</td>\n",
       "      <td>1zyd_Vyw0Xr8b8-2F868ou7yYhRUVeT-U</td>\n",
       "      <td>421489.0</td>\n",
       "      <td>2025-04-09T09:12:48.000Z</td>\n",
       "      <td>2025-06-04T05:33:40.719788Z</td>\n",
       "    </tr>\n",
       "  </tbody>\n",
       "</table>\n",
       "</div>"
      ],
      "text/plain": [
       "                                            filename file_extension  \\\n",
       "0  White And Beige Minimalistic Photo Collage Bir...           .png   \n",
       "1                                    Kobe Bryant.png           .png   \n",
       "2                    Trigger Warning Reading den.png           .png   \n",
       "3             Sunset Beachy Coconut Girl fix mau.png           .png   \n",
       "4                                      Trokiando.png           .png   \n",
       "\n",
       "    folder_name                                         folder_url  \\\n",
       "0          root  https://drive.google.com/drive/folders/1_UeVZ_...   \n",
       "1  root/Áo/2025  https://drive.google.com/drive/folders/1RinxNY...   \n",
       "2  root/Áo/2025  https://drive.google.com/drive/folders/1RinxNY...   \n",
       "3  root/Áo/2025  https://drive.google.com/drive/folders/1RinxNY...   \n",
       "4  root/Áo/2025  https://drive.google.com/drive/folders/1RinxNY...   \n",
       "\n",
       "                                          direct_url  preview_url  \\\n",
       "0  https://drive.google.com/file/d/17kiNJBasVa7wC...          NaN   \n",
       "1  https://drive.google.com/file/d/1CJS-rYB9Z7YGF...          NaN   \n",
       "2  https://drive.google.com/file/d/1fgmcQo6iOTpn6...          NaN   \n",
       "3  https://drive.google.com/file/d/1sqIgceUTlX5f8...          NaN   \n",
       "4  https://drive.google.com/file/d/1zyd_Vyw0Xr8b8...          NaN   \n",
       "\n",
       "                                        download_url  \\\n",
       "0  https://drive.google.com/uc?export=download&id...   \n",
       "1  https://drive.google.com/uc?export=download&id...   \n",
       "2  https://drive.google.com/uc?export=download&id...   \n",
       "3  https://drive.google.com/uc?export=download&id...   \n",
       "4  https://drive.google.com/uc?export=download&id...   \n",
       "\n",
       "                             file_id   file_size             modified_date  \\\n",
       "0  17kiNJBasVa7wCyMktyjLxy-toEI05KJB   2741732.0  2025-05-26T10:46:16.000Z   \n",
       "1  1CJS-rYB9Z7YGF0tP_MNJeGIWSSLqvvbH  12857644.0  2025-04-18T03:46:22.000Z   \n",
       "2  1fgmcQo6iOTpn6Hk6HuWCfMaA_5Yvkbfo   6466206.0  2025-04-11T04:16:03.000Z   \n",
       "3  1sqIgceUTlX5f8bmRymsCAFYBWc0bYA1C    605823.0  2025-04-11T03:42:29.000Z   \n",
       "4  1zyd_Vyw0Xr8b8-2F868ou7yYhRUVeT-U    421489.0  2025-04-09T09:12:48.000Z   \n",
       "\n",
       "          collection_timestamp  \n",
       "0  2025-06-04T05:33:30.571554Z  \n",
       "1  2025-06-04T05:33:40.719788Z  \n",
       "2  2025-06-04T05:33:40.719788Z  \n",
       "3  2025-06-04T05:33:40.719788Z  \n",
       "4  2025-06-04T05:33:40.719788Z  "
      ]
     },
     "execution_count": 18,
     "metadata": {},
     "output_type": "execute_result"
    }
   ],
   "source": [
    "data_pod = pd.read_csv('..\\data\\metadata\\drive_pod.csv')\n",
    "data_pod.head(5)"
   ]
  },
  {
   "cell_type": "code",
   "execution_count": 19,
   "id": "050276a4",
   "metadata": {},
   "outputs": [
    {
     "data": {
      "text/plain": [
       "0                     POD\n",
       "1             POD/Áo/2025\n",
       "2             POD/Áo/2025\n",
       "3             POD/Áo/2025\n",
       "4             POD/Áo/2025\n",
       "               ...       \n",
       "18030    POD/Cốc/Mẫu demo\n",
       "18031    POD/Cốc/Mẫu demo\n",
       "18032    POD/Cốc/Mẫu demo\n",
       "18033    POD/Cốc/Mẫu demo\n",
       "18034    POD/Cốc/Mẫu demo\n",
       "Name: folder_name, Length: 18035, dtype: object"
      ]
     },
     "execution_count": 19,
     "metadata": {},
     "output_type": "execute_result"
    }
   ],
   "source": [
    "data_pod['folder_name'] = data_pod['folder_name'].str.replace('root', 'POD', regex=False)\n",
    "data_pod['folder_name'] "
   ]
  },
  {
   "cell_type": "markdown",
   "id": "46875d2a",
   "metadata": {},
   "source": [
    "## Concat metadata"
   ]
  },
  {
   "cell_type": "code",
   "execution_count": 20,
   "id": "d533a0a1",
   "metadata": {},
   "outputs": [
    {
     "data": {
      "text/plain": [
       "(19167, 11)"
      ]
     },
     "execution_count": 20,
     "metadata": {},
     "output_type": "execute_result"
    }
   ],
   "source": [
    "data = pd.concat([data_des, data_pod], ignore_index=True)\n",
    "data.shape"
   ]
  },
  {
   "cell_type": "code",
   "execution_count": 21,
   "id": "ad6fbd0a",
   "metadata": {},
   "outputs": [
    {
     "data": {
      "text/plain": [
       "filename                    0\n",
       "file_extension              0\n",
       "folder_name                 0\n",
       "folder_url                  0\n",
       "direct_url                  0\n",
       "preview_url             19167\n",
       "download_url                0\n",
       "file_id                     0\n",
       "file_size                   2\n",
       "modified_date               0\n",
       "collection_timestamp        0\n",
       "dtype: int64"
      ]
     },
     "execution_count": 21,
     "metadata": {},
     "output_type": "execute_result"
    }
   ],
   "source": [
    "data.isnull().sum()"
   ]
  },
  {
   "cell_type": "markdown",
   "id": "4bcb91a2",
   "metadata": {},
   "source": [
    "## Drop preview_url column and normalize filename column"
   ]
  },
  {
   "cell_type": "code",
   "execution_count": 22,
   "id": "99bf715236c5003a",
   "metadata": {},
   "outputs": [],
   "source": [
    "data = data.drop(columns=['preview_url'])\n",
    "data['filename'] = data['filename'].apply(lambda x: os.path.splitext(x)[0])"
   ]
  },
  {
   "cell_type": "markdown",
   "id": "fd895f05",
   "metadata": {},
   "source": [
    "## Normalize timestamp columns"
   ]
  },
  {
   "cell_type": "code",
   "execution_count": 23,
   "id": "b99e9202",
   "metadata": {},
   "outputs": [
    {
     "data": {
      "text/plain": [
       "0       2025-06-04 06:48:55.258000+00:00\n",
       "1       2025-06-04 02:22:51.591000+00:00\n",
       "2       2025-06-04 02:13:07.125000+00:00\n",
       "3       2025-06-04 02:10:58.812000+00:00\n",
       "4       2025-06-04 02:10:39.556000+00:00\n",
       "                      ...               \n",
       "19162          2024-12-23 10:45:49+00:00\n",
       "19163          2024-12-23 10:44:42+00:00\n",
       "19164          2024-12-23 10:43:55+00:00\n",
       "19165          2024-12-23 10:42:54+00:00\n",
       "19166          2024-12-23 10:41:50+00:00\n",
       "Name: modified_date, Length: 19167, dtype: datetime64[ns, UTC]"
      ]
     },
     "execution_count": 23,
     "metadata": {},
     "output_type": "execute_result"
    }
   ],
   "source": [
    "date_columns = [['modified_date'], ['collection_timestamp']]\n",
    "data['modified_date'] = pd.to_datetime(data['modified_date'], errors='coerce')\n",
    "data['modified_date']"
   ]
  },
  {
   "cell_type": "code",
   "execution_count": 24,
   "id": "a75394dc",
   "metadata": {},
   "outputs": [],
   "source": [
    "data.to_csv('../data/clean_metadata/clean_metadata.csv')"
   ]
  }
 ],
 "metadata": {
  "kernelspec": {
   "display_name": "venv",
   "language": "python",
   "name": "python3"
  },
  "language_info": {
   "codemirror_mode": {
    "name": "ipython",
    "version": 3
   },
   "file_extension": ".py",
   "mimetype": "text/x-python",
   "name": "python",
   "nbconvert_exporter": "python",
   "pygments_lexer": "ipython3",
   "version": "3.10.0"
  }
 },
 "nbformat": 4,
 "nbformat_minor": 5
}
